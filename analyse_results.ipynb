{
 "cells": [
  {
   "cell_type": "markdown",
   "metadata": {},
   "source": [
    "# Analyse the results"
   ]
  },
  {
   "cell_type": "code",
   "execution_count": 8,
   "metadata": {},
   "outputs": [],
   "source": [
    "import os\n",
    "import numpy as np\n",
    "from collections import defaultdict"
   ]
  },
  {
   "cell_type": "code",
   "execution_count": 9,
   "metadata": {},
   "outputs": [],
   "source": [
    "def list_dir(path):\n",
    "    return list(filter(lambda f: not f.startswith('.'), os.listdir(path)))\n",
    "\n",
    "def read_results(path):\n",
    "    results = []\n",
    "    with open(path, 'r') as f:\n",
    "        for l in f.readlines():\n",
    "            r = float(l)\n",
    "            results.append(r)\n",
    "    return results"
   ]
  },
  {
   "cell_type": "code",
   "execution_count": 13,
   "metadata": {},
   "outputs": [],
   "source": [
    "return_types = set()\n",
    "step_sizes_types = set()\n",
    "\n",
    "results_folder = \"results\"\n",
    "seeds = list_dir(results_folder)\n",
    "\n",
    "results_dict = defaultdict(lambda: defaultdict(lambda: defaultdict(list)))\n",
    "\n",
    "# Structure is: seed/return_function/num_steps/learning_rate.txt\n",
    "for s in seeds:\n",
    "    seed_folder = os.path.join(results_folder, str(s))\n",
    "    returns = list_dir(seed_folder)\n",
    "    # various return types\n",
    "    for r in returns:\n",
    "        return_types.add(r)\n",
    "        \n",
    "        returns_folder = os.path.join(seed_folder, str(r))\n",
    "        step_sizes = list_dir(returns_folder)\n",
    "        # various step sizes\n",
    "        for ns in step_sizes:\n",
    "            step_sizes_types.add(ns)\n",
    "            \n",
    "            step_sizes_folder = os.path.join(returns_folder, str(ns))\n",
    "            files = list_dir(step_sizes_folder)\n",
    "            # each file has a different learning rate\n",
    "            for file in files:\n",
    "                # get the number after 0.\n",
    "                learning_rate = file.split(\".\")[1]\n",
    "                filepath = os.path.join(step_sizes_folder, file)\n",
    "                results = read_results(filepath)\n",
    "                \n",
    "                # we append all the seeds to the same list\n",
    "                for result in results:\n",
    "                    results_dict[r][ns][learning_rate].append(result)"
   ]
  },
  {
   "cell_type": "code",
   "execution_count": 14,
   "metadata": {},
   "outputs": [
    {
     "name": "stdout",
     "output_type": "stream",
     "text": [
      "defaultdict(<function <lambda>.<locals>.<lambda> at 0x1078f4c80>, {})\n"
     ]
    }
   ],
   "source": [
    "print(results_dict[\"GAE\"])"
   ]
  },
  {
   "cell_type": "code",
   "execution_count": 15,
   "metadata": {
    "scrolled": false
   },
   "outputs": [
    {
     "name": "stdout",
     "output_type": "stream",
     "text": [
      "defaultdict(<class 'list'>, {'0009': [51.2, 24.7, 77.2, 107.8, 99.9, 95.7, 85.8, 50.8, 39.1, 36.3, 37.2, 37.1, 38.4, 33.1, 51.0, 39.3, 32.0, 102.6, 55.4, 19.8, 61.7, 58.8, 50.6, 44.6, 26.4, 20.2, 19.5, 44.8, 53.2, 30.7, 26.8, 21.0, 26.0, 26.1, 24.1, 21.7, 23.4, 20.7, 46.3, 36.3, 27.1, 43.5, 96.8, 39.2, 30.2, 20.8, 19.6, 21.8, 26.3, 22.8], '01': [21.6, 30.4, 18.9, 24.9, 18.8, 24.7, 20.2, 54.0, 39.5, 51.4, 55.6, 22.3, 44.8, 69.8, 27.2, 47.6, 26.2, 33.2, 23.7, 19.8, 24.8, 22.0, 27.0, 38.9, 60.6, 21.3, 17.4, 47.4, 19.1, 72.0, 17.2, 37.2, 28.1, 22.8, 28.9, 22.1, 16.5, 11.0, 13.7, 15.8, 98.3, 38.8, 30.0, 64.2, 101.1, 31.5, 26.6, 19.9, 135.4, 155.5], '009': [35.0, 28.7, 24.9, 20.6, 20.9, 31.0, 43.7, 63.7, 96.8, 168.0, 92.9, 139.7, 96.1, 85.7, 55.3, 58.8, 21.9, 194.0, 20.9, 19.2, 56.1, 26.7, 139.4, 14.5, 24.7, 28.5, 23.4, 40.2, 19.7, 44.4, 24.6, 29.2, 21.6, 21.5, 21.1, 72.5, 42.6, 26.0, 32.4, 34.6, 90.0, 137.6, 23.0, 41.7, 35.2, 27.3, 28.8, 20.4, 42.7, 46.2], '07': [25.8, 28.7, 36.2, 32.1, 29.6, 34.2, 27.0, 34.0, 13.3, 9.8, 38.5, 9.9, 10.0, 10.0, 18.7, 53.6, 13.3, 10.4, 20.1, 82.8, 43.0, 63.0, 121.7, 14.5, 23.8, 14.5, 29.6, 10.3, 9.9, 9.6, 10.4, 9.5, 10.0, 9.3, 63.8, 55.9, 31.4, 19.8, 10.4, 37.1, 44.6, 10.3, 9.7, 39.6, 27.3, 13.9, 29.2, 11.1, 19.9, 30.3], '007': [15.8, 16.7, 62.8, 67.6, 29.1, 24.1, 33.3, 123.7, 121.1, 25.4, 48.0, 15.3, 123.1, 46.2, 140.6, 109.5, 98.4, 58.3, 68.5, 32.5, 44.7, 34.5, 18.2, 27.5, 95.1, 22.9, 15.9, 30.6, 38.7, 24.3, 14.8, 24.5, 18.3, 25.7, 25.1, 31.5, 12.4, 88.9, 40.6, 46.0, 34.6, 95.1, 73.3, 42.8, 99.7, 65.3, 129.4, 112.4, 55.3, 139.3], '005': [28.6, 20.5, 18.2, 19.1, 19.6, 23.5, 16.8, 21.6, 38.8, 19.2, 143.7, 31.2, 34.8, 12.8, 24.1, 67.3, 14.9, 18.8, 24.3, 58.8, 44.3, 28.0, 31.4, 60.3, 54.2, 31.8, 83.9, 99.9, 140.7, 160.7, 69.9, 131.9, 44.4, 90.8, 51.9, 96.4, 142.9, 35.1, 28.2, 91.2, 34.5, 22.7, 22.5, 11.3, 18.2, 18.3, 25.9, 20.6, 33.3, 23.2], '001': [16.7, 14.1, 19.5, 124.1, 89.7, 91.8, 32.5, 46.7, 45.4, 24.2, 30.9, 56.2, 39.9, 48.2, 29.4, 41.9, 34.8, 50.6, 68.6, 46.6, 58.9, 83.5, 62.1, 49.4, 45.7, 49.3, 55.7, 52.2, 23.8, 70.3, 67.3, 24.1, 31.4, 24.0, 25.0, 35.7, 24.2, 17.9, 30.2, 49.9, 34.5, 24.7, 40.8, 30.3, 28.3, 53.8, 52.6, 61.2, 87.8, 48.0], '003': [19.2, 17.2, 21.5, 16.9, 16.7, 25.2, 20.5, 16.4, 21.3, 40.2, 92.3, 21.6, 21.4, 22.8, 29.3, 30.7, 24.4, 14.1, 24.8, 19.7, 19.1, 19.3, 24.6, 27.2, 24.8, 56.9, 28.8, 23.3, 29.4, 31.7, 35.6, 38.4, 34.2, 20.1, 18.2, 34.6, 32.5, 28.1, 34.6, 44.8, 91.3, 105.7, 102.1, 98.9, 87.1, 62.4, 161.2, 126.5, 91.3, 165.1], '0003': [17.5, 12.9, 10.5, 10.4, 11.3, 14.5, 18.6, 20.6, 23.3, 20.6, 17.0, 31.0, 30.7, 27.9, 21.7, 23.7, 20.2, 19.4, 25.3, 42.3, 54.4, 64.4, 55.0, 44.1, 47.5, 59.1, 52.4, 51.8, 60.2, 35.1, 56.9, 42.0, 43.6, 32.8, 23.6, 33.2, 25.8, 29.8, 26.8, 21.8, 22.0, 33.4, 30.0, 26.6, 26.5, 27.0, 33.8, 28.9, 26.8, 33.1], '0001': [17.5, 21.9, 26.1, 28.8, 38.6, 53.3, 58.9, 48.2, 61.3, 46.4, 31.0, 29.7, 33.8, 25.7, 25.0, 27.7, 24.9, 27.1, 29.9, 24.8, 20.5, 33.3, 30.1, 50.3, 67.3, 68.8, 59.5, 87.0, 71.9, 76.3, 69.7, 70.2, 79.9, 66.1, 68.1, 83.3, 74.6, 76.9, 51.8, 43.3, 70.0, 78.5, 58.9, 70.0, 64.1, 56.6, 50.7, 84.0, 46.7, 65.9], '0005': [29.0, 29.2, 25.2, 19.3, 23.4, 22.7, 86.3, 78.2, 100.8, 102.9, 95.4, 68.9, 62.8, 52.8, 59.5, 47.3, 37.9, 29.4, 39.1, 31.3, 27.2, 44.8, 38.0, 27.4, 41.3, 34.5, 50.4, 30.2, 27.4, 43.0, 35.7, 23.3, 67.2, 46.6, 38.6, 28.2, 34.5, 35.6, 24.8, 31.0, 36.2, 47.4, 29.9, 47.1, 31.8, 44.5, 31.7, 37.3, 30.6, 34.0]})\n"
     ]
    }
   ],
   "source": [
    "print(results_dict[\"Q\"][\"1\"])"
   ]
  },
  {
   "cell_type": "markdown",
   "metadata": {},
   "source": [
    "## Find the best learning rate for every step size and return combination"
   ]
  },
  {
   "cell_type": "code",
   "execution_count": 16,
   "metadata": {},
   "outputs": [],
   "source": [
    "class color:\n",
    "   PURPLE = '\\033[95m'\n",
    "   CYAN = '\\033[96m'\n",
    "   DARKCYAN = '\\033[36m'\n",
    "   BLUE = '\\033[94m'\n",
    "   GREEN = '\\033[92m'\n",
    "   YELLOW = '\\033[93m'\n",
    "   RED = '\\033[91m'\n",
    "   BOLD = '\\033[1m'\n",
    "   UNDERLINE = '\\033[4m'\n",
    "   END = '\\033[0m'\n",
    "\n",
    "# print(color.BOLD + 'Hello World !' + color.END)"
   ]
  },
  {
   "cell_type": "code",
   "execution_count": 27,
   "metadata": {},
   "outputs": [
    {
     "name": "stdout",
     "output_type": "stream",
     "text": [
      "Return: Q\tnum_steps: 10\tlr: 0009\tmean: 35.89\tmedian: 32.9\tstd: 13.05\n",
      "Return: Q\tnum_steps: 10\tlr: 01\tmean: 35.95\tmedian: 26.2\tstd: 19.66\n",
      "Return: Q\tnum_steps: 10\tlr: 009\tmean: 60.93\tmedian: 54.55\tstd: 24.76\n",
      "Return: Q\tnum_steps: 10\tlr: 007\tmean: 52.87\tmedian: 45.45\tstd: 23.34\n",
      "Return: Q\tnum_steps: 10\tlr: 005\tmean: 47.05\tmedian: 41.15\tstd: 22.19\n",
      "Return: Q\tnum_steps: 10\tlr: 001\tmean: 32.75\tmedian: 28.5\tstd: 12.04\n",
      "Return: Q\tnum_steps: 10\tlr: 003\tmean: 43.35\tmedian: 41.95\tstd: 16.37\n",
      "Return: Q\tnum_steps: 10\tlr: 0003\tmean: 52.84\tmedian: 53.3\tstd: 13.67\n",
      "Return: Q\tnum_steps: 10\tlr: 0001\tmean: 42.96\tmedian: 46.25\tstd: 13.45\n",
      "Return: Q\tnum_steps: 10\tlr: 0005\tmean: 46.03\tmedian: 44.2\tstd: 11.64\n",
      "Finished for return: Q, num_steps: 10\n",
      "Final result for num_steps: 10\treturn: Q\tnum_steps: 10\t\tBest lr: 009\tBest mean: 60.93\n",
      "Return: Q\tnum_steps: 1\tlr: 0009\tmean: 42.91\tmedian: 36.7\tstd: 24.17\n",
      "Return: Q\tnum_steps: 1\tlr: 01\tmean: 38.79\tmedian: 27.1\tstd: 29.51\n",
      "Return: Q\tnum_steps: 1\tlr: 009\tmean: 51.09\tmedian: 33.5\tstd: 41.59\n",
      "Return: Q\tnum_steps: 1\tlr: 07\tmean: 27.43\tmedian: 21.950000000000003\tstd: 21.53\n",
      "Return: Q\tnum_steps: 1\tlr: 007\tmean: 55.75\tmedian: 41.7\tstd: 38.23\n",
      "Return: Q\tnum_steps: 1\tlr: 005\tmean: 48.10\tmedian: 31.299999999999997\tstd: 39.37\n",
      "Return: Q\tnum_steps: 1\tlr: 001\tmean: 45.89\tmedian: 45.55\tstd: 22.23\n",
      "Return: Q\tnum_steps: 1\tlr: 003\tmean: 44.28\tmedian: 28.450000000000003\tstd: 37.27\n",
      "Return: Q\tnum_steps: 1\tlr: 0003\tmean: 31.36\tmedian: 27.45\tstd: 13.96\n",
      "Return: Q\tnum_steps: 1\tlr: 0001\tmean: 51.50\tmedian: 52.55\tstd: 20.50\n",
      "Return: Q\tnum_steps: 1\tlr: 0005\tmean: 42.83\tmedian: 35.95\tstd: 20.19\n",
      "Finished for return: Q, num_steps: 1\n",
      "Final result for num_steps: 1\treturn: Q\tnum_steps: 1\t\tBest lr: 007\tBest mean: 55.75\n",
      "\n",
      "##############################\n",
      "Finished for return: Q\n",
      "\u001b[1mFinal result for return: Q\tBest num_steps: 10\tBest lr: 009\tBest mean: 60.93\u001b[0m\n",
      "##############################\n",
      "\n"
     ]
    }
   ],
   "source": [
    "for r in return_types:\n",
    "    best_num_steps = 0\n",
    "    best_global_mean = 0\n",
    "    best_global_lr = 0\n",
    "    \n",
    "    for ns in step_sizes_types:\n",
    "        best_lr = 0\n",
    "        best_mean = 0\n",
    "        \n",
    "        for lr in results_dict[r][ns].keys():\n",
    "            results = np.array(results_dict[r][ns][lr])\n",
    "            \n",
    "            mean = np.mean(results)\n",
    "            median = np.median(results)\n",
    "            std = np.std(results)\n",
    "            print(f\"Return: {r}\\tnum_steps: {ns}\\tlr: {lr}\\tmean: {mean:.2f}\\tmedian: {median}\\tstd: {std:.2f}\")\n",
    "            \n",
    "            # track which learning rate is best for this num_steps\n",
    "            if mean > best_mean:\n",
    "                best_mean = mean\n",
    "                best_lr = lr\n",
    "\n",
    "        # track which num_steps is best\n",
    "        if best_mean > best_global_mean:\n",
    "            best_num_steps = ns\n",
    "            best_global_mean = best_mean\n",
    "            best_global_lr = best_lr\n",
    "        print(f\"Finished for return: {r}, num_steps: {ns}\")    \n",
    "        print(f\"Final result for num_steps: {ns}\\treturn: {r}\\tnum_steps: {ns}\\t\\tBest lr: {best_lr}\\tBest mean: {best_mean:.2f}\")\n",
    "    \n",
    "    print(\"\\n\"+\"#\"*30)    \n",
    "    print(f\"Finished for return: {r}\")\n",
    "    print(color.BOLD+f\"Final result for return: {r}\\tBest num_steps: {best_num_steps}\\tBest lr: {best_global_lr}\\tBest mean: {best_global_mean:.2f}\"+color.END)\n",
    "    print(\"#\"*30+\"\\n\")"
   ]
  },
  {
   "cell_type": "code",
   "execution_count": null,
   "metadata": {},
   "outputs": [],
   "source": []
  }
 ],
 "metadata": {
  "kernelspec": {
   "display_name": "Python 3",
   "language": "python",
   "name": "python3"
  },
  "language_info": {
   "codemirror_mode": {
    "name": "ipython",
    "version": 3
   },
   "file_extension": ".py",
   "mimetype": "text/x-python",
   "name": "python",
   "nbconvert_exporter": "python",
   "pygments_lexer": "ipython3",
   "version": "3.7.3"
  }
 },
 "nbformat": 4,
 "nbformat_minor": 2
}
