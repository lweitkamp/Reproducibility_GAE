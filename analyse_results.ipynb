{
 "cells": [
  {
   "cell_type": "markdown",
   "metadata": {},
   "source": [
    "# Analyse the results"
   ]
  },
  {
   "cell_type": "code",
   "execution_count": null,
   "metadata": {},
   "outputs": [],
   "source": [
    "import os\n",
    "import numpy as np\n",
    "from collections import defaultdict"
   ]
  },
  {
   "cell_type": "code",
   "execution_count": null,
   "metadata": {},
   "outputs": [],
   "source": [
    "def list_dir(path):\n",
    "    return list(filter(lambda f: not f.startswith('.'), os.listdir(path)))\n",
    "\n",
    "def read_results(path):\n",
    "    results = []\n",
    "    with open(path, 'r') as f:\n",
    "        for l in f.readlines():\n",
    "            r = float(l)\n",
    "            results.append(r)\n",
    "    return results"
   ]
  },
  {
   "cell_type": "code",
   "execution_count": null,
   "metadata": {},
   "outputs": [],
   "source": [
    "return_types = set()\n",
    "step_sizes_types = set()\n",
    "\n",
    "results_folder = \"results\"\n",
    "seeds = list_dir(results_folder)\n",
    "\n",
    "results_dict = defaultdict(lambda: defaultdict(lambda: defaultdict(list)))\n",
    "\n",
    "# Structure is: seed/return_function/num_steps/learning_rate.txt\n",
    "for s in seeds:\n",
    "    seed_folder = os.path.join(results_folder, str(s))\n",
    "    returns = list_dir(seed_folder)\n",
    "    # various return types\n",
    "    for r in returns:\n",
    "        return_types.add(r)\n",
    "        \n",
    "        returns_folder = os.path.join(seed_folder, str(r))\n",
    "        step_sizes = list_dir(returns_folder)\n",
    "        # various step sizes\n",
    "        for ns in step_sizes:\n",
    "            step_sizes_types.add(ns)\n",
    "            \n",
    "            step_sizes_folder = os.path.join(returns_folder, str(ns))\n",
    "            files = list_dir(step_sizes_folder)\n",
    "            # each file has a different learning rate\n",
    "            for file in files:\n",
    "                # get the number after 0.\n",
    "                learning_rate = file.split(\".\")[1]\n",
    "                filepath = os.path.join(step_sizes_folder, file)\n",
    "                results = read_results(filepath)\n",
    "                \n",
    "                # we append all the seeds to the same list\n",
    "                for result in results:\n",
    "                    results_dict[r][ns][learning_rate].append(result)"
   ]
  },
  {
   "cell_type": "code",
   "execution_count": null,
   "metadata": {},
   "outputs": [],
   "source": [
    "print(results_dict[\"GAE\"])"
   ]
  },
  {
   "cell_type": "code",
   "execution_count": null,
   "metadata": {
    "scrolled": false
   },
   "outputs": [],
   "source": [
    "print(results_dict[\"Q\"][\"1\"])"
   ]
  },
  {
   "cell_type": "markdown",
   "metadata": {},
   "source": [
    "## Find the best learning rate for every step size and return combination"
   ]
  },
  {
   "cell_type": "code",
   "execution_count": null,
   "metadata": {},
   "outputs": [],
   "source": [
    "class color:\n",
    "   PURPLE = '\\033[95m'\n",
    "   CYAN = '\\033[96m'\n",
    "   DARKCYAN = '\\033[36m'\n",
    "   BLUE = '\\033[94m'\n",
    "   GREEN = '\\033[92m'\n",
    "   YELLOW = '\\033[93m'\n",
    "   RED = '\\033[91m'\n",
    "   BOLD = '\\033[1m'\n",
    "   UNDERLINE = '\\033[4m'\n",
    "   END = '\\033[0m'\n",
    "\n",
    "# print(color.BOLD + 'Hello World !' + color.END)"
   ]
  },
  {
   "cell_type": "code",
   "execution_count": null,
   "metadata": {},
   "outputs": [],
   "source": [
    "for r in return_types:\n",
    "    best_num_steps = 0\n",
    "    best_global_mean = 0\n",
    "    best_global_lr = 0\n",
    "    \n",
    "    for ns in step_sizes_types:\n",
    "        best_lr = 0\n",
    "        best_mean = 0\n",
    "        \n",
    "        for lr in results_dict[r][ns].keys():\n",
    "            results = np.array(results_dict[r][ns][lr])\n",
    "            \n",
    "            mean = np.mean(results)\n",
    "            median = np.median(results)\n",
    "            std = np.std(results)\n",
    "            print(f\"Return: {r}\\tnum_steps: {ns}\\tlr: {lr}\\tmean: {mean}\\tmedian: {median}\\tstd: {std}\")\n",
    "            \n",
    "            # track which learning rate is best for this num_steps\n",
    "            if mean > best_mean:\n",
    "                best_mean = mean\n",
    "                best_lr = lr\n",
    "\n",
    "        # track which num_steps is best\n",
    "        if best_mean > best_global_mean:\n",
    "            best_num_steps = ns\n",
    "            best_global_mean = best_mean\n",
    "            best_global_lr = best_lr\n",
    "        print(f\"Finished for return: {r}, num_steps: {ns}\")    \n",
    "        print(f\"Final result for num_steps: {ns}\\treturn: {r}\\tnum_steps: {ns}\\t\\tBest lr: {best_lr}\\tBest mean: {best_mean}\")\n",
    "    \n",
    "    print(\"\\n\"+\"#\"*30)    \n",
    "    print(f\"Finished for return: {r}\")\n",
    "    print(color.BOLD+f\"Final result for return: {r}\\tBest num_steps: {ns}\\tBest lr: {best_lr}\\tBest mean: {best_mean}\"+color.END)\n",
    "    print(\"#\"*30+\"\\n\")"
   ]
  },
  {
   "cell_type": "code",
   "execution_count": null,
   "metadata": {},
   "outputs": [],
   "source": []
  }
 ],
 "metadata": {
  "kernelspec": {
   "display_name": "Python 3",
   "language": "python",
   "name": "python3"
  },
  "language_info": {
   "codemirror_mode": {
    "name": "ipython",
    "version": 3
   },
   "file_extension": ".py",
   "mimetype": "text/x-python",
   "name": "python",
   "nbconvert_exporter": "python",
   "pygments_lexer": "ipython3",
   "version": "3.7.3"
  }
 },
 "nbformat": 4,
 "nbformat_minor": 2
}
